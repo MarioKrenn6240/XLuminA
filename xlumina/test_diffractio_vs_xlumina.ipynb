{
 "cells": [
  {
   "cell_type": "markdown",
   "id": "2dae72b8-43d4-40e7-8dce-6f3458e42818",
   "metadata": {},
   "source": [
    "# Testing XLuminA: \n",
    "\n",
    "    1. Diffractio vs XLuminA propagation functions.\n",
    "    2. SciPy (BFGS) vs JAX (ADAM) optimization using XLuminA."
   ]
  },
  {
   "cell_type": "code",
   "execution_count": 1,
   "id": "e3b8dee2-f6c2-4383-8444-e193942adfd1",
   "metadata": {},
   "outputs": [],
   "source": [
    "import time"
   ]
  },
  {
   "cell_type": "markdown",
   "id": "628755b6-5572-4593-8300-92dbdbed3ef2",
   "metadata": {
    "tags": []
   },
   "source": [
    "### Diffractio: *runs on CPU device*"
   ]
  },
  {
   "cell_type": "code",
   "execution_count": null,
   "id": "65196a3c-41d5-4a0d-98c4-732d3893a8f3",
   "metadata": {},
   "outputs": [],
   "source": [
    "from diffractio import np, degrees, um, mm\n",
    "from diffractio.scalar_sources_XY import Scalar_source_XY\n",
    "from diffractio.vector_sources_XY import Vector_source_XY\n",
    "from diffractio.scalar_fields_XY import Scalar_field_XY\n",
    "from diffractio.vector_fields_XY import Vector_field_XY"
   ]
  },
  {
   "cell_type": "code",
   "execution_count": null,
   "id": "79843f19-9128-4417-a150-bd2566e43a11",
   "metadata": {},
   "outputs": [],
   "source": [
    "# System specs:\n",
    "wavelength = .6328 * um\n",
    "w0 = (1200*um , 1200*um)\n",
    "x = np.linspace(-15 * mm, 15 * um, 2048)\n",
    "y = np.linspace(-15 * um, 15 * um, 2048)\n",
    "x_out = np.linspace(-15 * um, 15 * um, 2048)\n",
    "y_out = np.linspace(-15 * um, 15 * um, 2048)"
   ]
  },
  {
   "cell_type": "markdown",
   "id": "fc6204ac-b6ad-4a2d-a6eb-bab8ea31a60d",
   "metadata": {
    "jp-MarkdownHeadingCollapsed": true,
    "tags": []
   },
   "source": [
    "#### Scalar optics"
   ]
  },
  {
   "cell_type": "code",
   "execution_count": null,
   "id": "b51a4438-1dfb-4083-99b3-1962838389ba",
   "metadata": {},
   "outputs": [],
   "source": [
    "ls = Scalar_source_XY(x, y, wavelength, info='Light source')\n",
    "ls.gauss_beam(r0=(0 * um, 0 * um), w0=w0, z0=(0,0), A=1, theta=0 * degrees, phi=0 * degrees)\n",
    "\n",
    "tic = time.perf_counter()\n",
    "ls_propagated = ls.RS(z=5*mm)\n",
    "print(\"Time taken for RS propagation - in seconds\", time.perf_counter() - tic)\n",
    "\n",
    "tic = time.perf_counter()\n",
    "ls_propagated = ls.CZT(z=5*mm, xout=x_out, yout=y_out, verbose=False)\n",
    "print(\"Time taken for CZT propagation - in seconds\", time.perf_counter() - tic)"
   ]
  },
  {
   "cell_type": "markdown",
   "id": "bfc48484-3781-4800-bbdd-a3e5fd583c0f",
   "metadata": {
    "jp-MarkdownHeadingCollapsed": true,
    "tags": []
   },
   "source": [
    "#### Vectorial optics"
   ]
  },
  {
   "cell_type": "code",
   "execution_count": null,
   "id": "b3ea108d-9513-49d1-8a07-9fcbfbccac08",
   "metadata": {},
   "outputs": [],
   "source": [
    "vls = Vector_source_XY(x, y, wavelength=wavelength, info='Light source polarization')\n",
    "vls.constant_polarization(u=ls, v=(1, 0), has_normalization=False, radius=(15*mm, 15*mm)) \n",
    "\n",
    "tic = time.perf_counter()\n",
    "vls.VRS(z=5*mm, n=1, new_field=False, verbose=False, amplification=(1, 1))\n",
    "print(\"Time taken for VRS propagation - in seconds\", time.perf_counter() - tic)\n",
    "\n",
    "tic = time.perf_counter()\n",
    "\n",
    "vls.CZT(z=5*mm, xout=x_out, yout=y_out, verbose=False)\n",
    "print(\"Time taken for VCZT propagation - in seconds\", time.perf_counter() - tic)"
   ]
  },
  {
   "cell_type": "code",
   "execution_count": null,
   "id": "d3365d92-3889-47a4-8336-f8513056fe8c",
   "metadata": {},
   "outputs": [],
   "source": []
  },
  {
   "cell_type": "code",
   "execution_count": null,
   "id": "39aad6ae-8181-4218-b46a-473b4ad3f8e0",
   "metadata": {},
   "outputs": [],
   "source": []
  }
 ],
 "metadata": {
  "kernelspec": {
   "display_name": "pretzel",
   "language": "python",
   "name": "pretzel"
  },
  "language_info": {
   "codemirror_mode": {
    "name": "ipython",
    "version": 3
   },
   "file_extension": ".py",
   "mimetype": "text/x-python",
   "name": "python",
   "nbconvert_exporter": "python",
   "pygments_lexer": "ipython3",
   "version": "3.8.16"
  }
 },
 "nbformat": 4,
 "nbformat_minor": 5
}
