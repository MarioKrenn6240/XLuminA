{
 "cells": [
  {
   "cell_type": "markdown",
   "id": "2dae72b8-43d4-40e7-8dce-6f3458e42818",
   "metadata": {},
   "source": [
    "# Testing XLuminA: \n",
    "\n",
    "(1) *Diffractio vs XLuminA propagation functions.*\n",
    "\n",
    "(2) *JAX (autodiff-based ADAM) vs SciPy's (BFGS) optimization using XLuminA.*"
   ]
  },
  {
   "cell_type": "code",
   "execution_count": 1,
   "id": "e3b8dee2-f6c2-4383-8444-e193942adfd1",
   "metadata": {},
   "outputs": [],
   "source": [
    "import time"
   ]
  },
  {
   "cell_type": "markdown",
   "id": "cca4db6a-5b8c-4933-830b-5b3ed45c54a6",
   "metadata": {
    "tags": []
   },
   "source": [
    "## (1) Speed test on propagation functions:\n",
    "\n",
    "    1. Scalar Rayleigh-Sommerfeld (RS)\n",
    "    2. Scalar Chirped z-transform (CZT)\n",
    "    3. Vectorial Rayleigh-Sommerfeld (VRS)\n",
    "    4. Vectorial Chirped z-transform (VCZT)\n",
    "    \n",
    "*Test for a computational window size of 2048x2048. You can change the sampling via \"resolution\".* "
   ]
  },
  {
   "cell_type": "code",
   "execution_count": 2,
   "id": "bb59d384-9481-403c-b86e-2459f7b80ee8",
   "metadata": {},
   "outputs": [],
   "source": [
    "resolution = 2048"
   ]
  },
  {
   "cell_type": "markdown",
   "id": "628755b6-5572-4593-8300-92dbdbed3ef2",
   "metadata": {
    "tags": []
   },
   "source": [
    "### Diffractio: *runs on CPU device*"
   ]
  },
  {
   "cell_type": "code",
   "execution_count": 3,
   "id": "65196a3c-41d5-4a0d-98c4-732d3893a8f3",
   "metadata": {},
   "outputs": [],
   "source": [
    "from diffractio import np, degrees, um, mm\n",
    "from diffractio.scalar_sources_XY import Scalar_source_XY\n",
    "from diffractio.vector_sources_XY import Vector_source_XY\n",
    "from diffractio.scalar_fields_XY import Scalar_field_XY\n",
    "from diffractio.vector_fields_XY import Vector_field_XY"
   ]
  },
  {
   "cell_type": "code",
   "execution_count": 4,
   "id": "79843f19-9128-4417-a150-bd2566e43a11",
   "metadata": {},
   "outputs": [],
   "source": [
    "# System specs:\n",
    "wavelength = .6328 * um\n",
    "w0 = (1200*um , 1200*um)\n",
    "x = np.linspace(-15 * mm, 15 * mm, resolution)\n",
    "y = np.linspace(-15 * mm, 15 * mm, resolution)\n",
    "x_out = np.linspace(-15 * mm, 15 * mm, resolution)\n",
    "y_out = np.linspace(-15 * mm, 15 * mm, resolution)"
   ]
  },
  {
   "cell_type": "markdown",
   "id": "fc6204ac-b6ad-4a2d-a6eb-bab8ea31a60d",
   "metadata": {
    "tags": []
   },
   "source": [
    "#### Scalar optics"
   ]
  },
  {
   "cell_type": "code",
   "execution_count": 5,
   "id": "b51a4438-1dfb-4083-99b3-1962838389ba",
   "metadata": {},
   "outputs": [
    {
     "name": "stdout",
     "output_type": "stream",
     "text": [
      "Time taken for RS propagation - in seconds 4.051304008811712\n",
      "Time taken for CZT propagation - in seconds 1.9945963714271784\n"
     ]
    }
   ],
   "source": [
    "ls = Scalar_source_XY(x, y, wavelength, info='Light source')\n",
    "ls.gauss_beam(r0=(0 * um, 0 * um), w0=w0, z0=(0,0), A=1, theta=0 * degrees, phi=0 * degrees)\n",
    "\n",
    "# Rayleigh-Sommerfeld:\n",
    "tic = time.perf_counter()\n",
    "ls_propagated = ls.RS(z=5*mm)\n",
    "print(\"Time taken for RS propagation - in seconds\", time.perf_counter() - tic)\n",
    "\n",
    "# Chirped z-transform:\n",
    "tic = time.perf_counter()\n",
    "ls_propagated = ls.CZT(z=5*mm, xout=x_out, yout=y_out, verbose=False)\n",
    "print(\"Time taken for CZT propagation - in seconds\", time.perf_counter() - tic)"
   ]
  },
  {
   "cell_type": "markdown",
   "id": "bfc48484-3781-4800-bbdd-a3e5fd583c0f",
   "metadata": {
    "tags": []
   },
   "source": [
    "#### Vectorial optics"
   ]
  },
  {
   "cell_type": "code",
   "execution_count": 6,
   "id": "b3ea108d-9513-49d1-8a07-9fcbfbccac08",
   "metadata": {},
   "outputs": [
    {
     "name": "stdout",
     "output_type": "stream",
     "text": [
      "Time taken for VRS propagation - in seconds 12.461026553064585\n",
      "Time taken for VCZT propagation - in seconds 6.241402745246887\n"
     ]
    }
   ],
   "source": [
    "vls = Vector_source_XY(x, y, wavelength=wavelength, info='Light source polarization')\n",
    "vls.constant_polarization(u=ls, v=(1, 0), has_normalization=False, radius=(15*mm, 15*mm)) \n",
    "\n",
    "# Rayleigh-Sommerfeld:\n",
    "tic = time.perf_counter()\n",
    "vls.VRS(z=5*mm, n=1, new_field=False, verbose=False, amplification=(1, 1))\n",
    "print(\"Time taken for VRS propagation - in seconds\", time.perf_counter() - tic)\n",
    "\n",
    "# Chirped z-transform:\n",
    "tic = time.perf_counter()\n",
    "vls.CZT(z=5*mm, xout=x_out, yout=y_out, verbose=False)\n",
    "print(\"Time taken for VCZT propagation - in seconds\", time.perf_counter() - tic)"
   ]
  },
  {
   "cell_type": "markdown",
   "id": "fdb9398d-0b54-4dd5-839b-3047599a6a64",
   "metadata": {
    "tags": []
   },
   "source": [
    "### XLuminA: *runs on CPU and GPU*\n",
    "\n",
    "*If you are running this notebook in a* **CPU** *node, the software will automatically fall back to CPU. You don't need to change anything :)*\n",
    "\n",
    "*If you are running this notebook in a* **GPU** *node, you can enable the* **CPU** *via adding these lines of code at the beginning of the cell:*\n",
    "\n",
    "    import os\n",
    "    os.environ['CUDA_VISIBLE_DEVICES'] = '[]'\n",
    "    \n",
    "*For XLuminA's test we run the functions* **twice** *: the 1st time a function that contains the* **just-in-time decorator** *(@jit) is called, JAX takes extra time to store the function in cache. The second (and subsequent) runs just call the pre-compiled function so the computation is faster.*"
   ]
  },
  {
   "cell_type": "code",
   "execution_count": 7,
   "id": "39aad6ae-8181-4218-b46a-473b4ad3f8e0",
   "metadata": {},
   "outputs": [],
   "source": [
    "from __init__ import mm\n",
    "from wave_optics import *\n",
    "from vectorized_optics import *\n",
    "from optical_elements import *\n",
    "from loss_functions import *\n",
    "from toolbox import space\n",
    "import jax.numpy as jnp\n",
    "\n",
    "wavelength = .6328 * um\n",
    "w0 = (1200*um , 1200*um)\n",
    "x, y = space(15*mm, resolution)\n",
    "x_out, y_out = jnp.array(space(15*mm, resolution))"
   ]
  },
  {
   "cell_type": "markdown",
   "id": "a65c47b3-2ca3-49a6-8b77-9bbacc8ebd68",
   "metadata": {
    "tags": []
   },
   "source": [
    "#### Scalar optics"
   ]
  },
  {
   "cell_type": "code",
   "execution_count": 8,
   "id": "5f6041ef-9ba2-4e98-842f-933211cdefd5",
   "metadata": {},
   "outputs": [
    {
     "name": "stdout",
     "output_type": "stream",
     "text": [
      "Time taken to perform one RS propagation (in seconds): 1.8112342655658722\n",
      "Time taken for 1st RS propagation - in seconds 1.8123067636042833\n",
      "Time taken to perform one RS propagation (in seconds): 0.010472599416971207\n",
      "Time taken for 2nd RS propagation - in seconds 0.010755511000752449\n",
      "Time taken to perform one CZT propagation (in seconds): 2.7917341720312834\n",
      "Time taken for 1st CZT propagation - in seconds 2.7920763678848743\n",
      "Time taken to perform one CZT propagation (in seconds): 0.030082011595368385\n",
      "Time taken for 2nd CZT propagation - in seconds 0.03025973029434681\n"
     ]
    }
   ],
   "source": [
    "gb = LightSource(x, y, wavelength)\n",
    "gb.gaussian_beam(w0=w0, E0=1)\n",
    "\n",
    "# Rayleigh-Sommerfeld:\n",
    "tic = time.perf_counter() \n",
    "ls_propagated = gb.RS_propagation(z=5*mm)\n",
    "print(\"Time taken for 1st RS propagation - in seconds\", time.perf_counter() - tic)\n",
    "\n",
    "tic = time.perf_counter() \n",
    "ls_propagated = gb.RS_propagation(z=5*mm)\n",
    "print(\"Time taken for 2nd RS propagation - in seconds\", time.perf_counter() - tic)\n",
    "\n",
    "# Chirped z-transform:\n",
    "tic = time.perf_counter() \n",
    "ls_propagated = gb.CZT(z=5*mm, xout=x_out, yout=y_out)\n",
    "print(\"Time taken for 1st CZT propagation - in seconds\", time.perf_counter() - tic)\n",
    "\n",
    "tic = time.perf_counter() \n",
    "ls_propagated = gb.CZT(z=5*mm, xout=x_out, yout=y_out)\n",
    "print(\"Time taken for 2nd CZT propagation - in seconds\", time.perf_counter() - tic)"
   ]
  },
  {
   "cell_type": "markdown",
   "id": "76b503cc-2d29-4845-be11-7ed6ba03aeb0",
   "metadata": {
    "tags": []
   },
   "source": [
    "#### Vectorial optics"
   ]
  },
  {
   "cell_type": "code",
   "execution_count": 9,
   "id": "bd6ca97f-3d3c-4990-bcb4-26ca3ce30fae",
   "metadata": {},
   "outputs": [
    {
     "name": "stdout",
     "output_type": "stream",
     "text": [
      "Time taken to perform one VRS propagation (in seconds): 1.362658778205514\n",
      "Time taken for 1st VRS propagation - in seconds 1.3628995660692453\n",
      "Time taken to perform one VRS propagation (in seconds): 0.14488637447357178\n",
      "Time taken for 2nd VRS propagation - in seconds 0.14504646696150303\n",
      "Time taken to perform one VCZT propagation (in seconds): 1.3398055844008923\n",
      "Time taken for 1st VCZT propagation - in seconds 1.3400872554630041\n",
      "Time taken to perform one VCZT propagation (in seconds): 0.07045849598944187\n",
      "Time taken for 2nd VCZT propagation - in seconds 0.07065347023308277\n"
     ]
    }
   ],
   "source": [
    "gb_lp = PolarizedLightSource(x, y, wavelength)\n",
    "gb_lp.gaussian_beam(w0=w0, jones_vector=(1, 0))\n",
    "\n",
    "# Rayleigh-Sommerfeld:\n",
    "tic = time.perf_counter() \n",
    "gb_propagated = gb_lp.VRS_propagation(z=5*mm)\n",
    "print(\"Time taken for 1st VRS propagation - in seconds\", time.perf_counter() - tic)\n",
    "\n",
    "tic = time.perf_counter() \n",
    "gb_propagated = gb_lp.VRS_propagation(z=5*mm)\n",
    "print(\"Time taken for 2nd VRS propagation - in seconds\", time.perf_counter() - tic)\n",
    "\n",
    "# Chirped z-transform:\n",
    "tic = time.perf_counter() \n",
    "gb_propagated = gb_lp.VCZT(z=5*mm, xout=x_out, yout=y_out)\n",
    "print(\"Time taken for 1st VCZT propagation - in seconds\", time.perf_counter() - tic)\n",
    "\n",
    "tic = time.perf_counter() \n",
    "gb_propagated = gb_lp.VCZT(z=5*mm, xout=x_out, yout=y_out)\n",
    "print(\"Time taken for 2nd VCZT propagation - in seconds\", time.perf_counter() - tic)"
   ]
  },
  {
   "cell_type": "markdown",
   "id": "ee25250c-d579-43b4-85da-1b0ad73290df",
   "metadata": {},
   "source": [
    "## (2) Comparison of XLuminA's autodiff optimization with SciPy's BFGS optimizer.\n",
    "\n",
    "*For this test we code an optical setup consisting of a gaussian beam interacting with a spatial light modulator (SLM). The ground truth is a gaussian beam with a spiral phase. The loss function is the mean squared error (MSE) of the phase between the outcome of the setup and the ground truth. Via optimization, we aim to rediscover the phase mask in the SLM device.*\n",
    "\n",
    "*We optimize using: (1) SciPy's BFGS optimizer (computing the gradients* **numerically** *) and (2) the ADAM optimizer from JAX, which due to autodiff, computes the gradients* **analytically**. *We run the optimization for different* **resolution**."
   ]
  },
  {
   "cell_type": "code",
   "execution_count": 10,
   "id": "fdcbb020-8a12-4d2a-9b06-4e01e18f374b",
   "metadata": {},
   "outputs": [],
   "source": [
    "from __init__ import um, nm, mm, degrees, radians\n",
    "from wave_optics import *\n",
    "from optical_elements import SLM\n",
    "from toolbox import space\n",
    "import jax.numpy as jnp\n",
    "import numpy as np"
   ]
  },
  {
   "cell_type": "code",
   "execution_count": 11,
   "id": "c08c8556-0d31-45c7-b519-687ac156abb2",
   "metadata": {},
   "outputs": [],
   "source": [
    "resolution = 10"
   ]
  },
  {
   "cell_type": "code",
   "execution_count": 12,
   "id": "84480db7-6477-4610-a94d-23d8325e1e32",
   "metadata": {},
   "outputs": [],
   "source": [
    "# System specs\n",
    "wavelength = 650*nm\n",
    "x_total = 1000*um \n",
    "x, y = space(x_total, resolution)\n",
    "\n",
    "# Define the incident light: gaussian beam \"\"\"\n",
    "w0 = (1200*um , 1200*um)\n",
    "gb = LightSource(x, y, wavelength)\n",
    "gb.gaussian_beam(w0=w0, E0=1)\n",
    "\n",
    "# Ground truth:\n",
    "gb_gt = ScalarLight(x, y, wavelength)\n",
    "phase_mask = jnp.arctan2(gb.Y,gb.X)\n",
    "gb_gt.field = gb.field * jnp.exp(1j * phase_mask)"
   ]
  },
  {
   "cell_type": "code",
   "execution_count": 13,
   "id": "71d33ab4-9101-46cf-b0d3-0686b5421104",
   "metadata": {},
   "outputs": [
    {
     "data": {
      "text/plain": [
       "<matplotlib.image.AxesImage at 0x148ba9714e20>"
      ]
     },
     "execution_count": 13,
     "metadata": {},
     "output_type": "execute_result"
    },
    {
     "data": {
      "image/png": "[encoded data removed]",
      "text/plain": [
       "<Figure size 640x480 with 1 Axes>"
      ]
     },
     "metadata": {},
     "output_type": "display_data"
    }
   ],
   "source": [
    "plt.imshow(phase_mask)"
   ]
  },
  {
   "cell_type": "markdown",
   "id": "909fb323-dfbe-48db-a076-f9ae48c11903",
   "metadata": {
    "tags": []
   },
   "source": [
    "### JAX autodiff optimization (with ADAM):"
   ]
  },
  {
   "cell_type": "code",
   "execution_count": 14,
   "id": "39398ddc-36ce-42b7-bf40-245383f37bc1",
   "metadata": {},
   "outputs": [],
   "source": [
    "# Setup and loss function: \n",
    "def setup(gb, parameters):\n",
    "    gb_modulated, _ = SLM(gb, parameters, gb.x.shape[0])\n",
    "    return gb_modulated\n",
    "\n",
    "def mse_phase(input_light, target_light):\n",
    "    return jnp.sum((jnp.angle(input_light.field) - jnp.angle(target_light.field)) ** 2) / resolution**2\n",
    "\n",
    "def loss(parameters):\n",
    "    out = setup(gb, parameters)\n",
    "    loss_val = mse_phase(out, gb_gt)\n",
    "    return loss_val"
   ]
  },
  {
   "cell_type": "code",
   "execution_count": 15,
   "id": "8d363ec1-e4e6-4023-8e2b-4382884291d3",
   "metadata": {},
   "outputs": [
    {
     "name": "stdout",
     "output_type": "stream",
     "text": [
      "[gpu(id=0), gpu(id=1)]\n",
      "Starting Optimization\n",
      "Stopping criterion: no improvement in loss value for 50 steps\n",
      "Best loss: 1.7395328971134204e-25 at step 3247; actual step 3300\n",
      "Time taken to optimize one sample - in seconds 2.607460329309106\n"
     ]
    },
    {
     "data": {
      "text/plain": [
       "<matplotlib.image.AxesImage at 0x148ba8cfcd60>"
      ]
     },
     "execution_count": 15,
     "metadata": {},
     "output_type": "execute_result"
    },
    {
     "data": {
      "image/png": "[encoded data removed]",
      "text/plain": [
       "<Figure size 640x480 with 1 Axes>"
      ]
     },
     "metadata": {},
     "output_type": "display_data"
    }
   ],
   "source": [
    "import jax\n",
    "from jax import grad, jit\n",
    "from jax.example_libraries import optimizers\n",
    "\n",
    "# Print device info (GPU or CPU)\n",
    "print(jax.devices(), flush=True)\n",
    "\n",
    "# Define the update:\n",
    "@jit\n",
    "def update(step_index, optimizer_state):\n",
    "    # define single update step\n",
    "    parameters = get_params(optimizer_state)\n",
    "    # Call the loss function and compute the gradients\n",
    "    computed_loss = loss_value(parameters)\n",
    "    computed_gradients = grad(loss_value, allow_int=True)(parameters)\n",
    "\n",
    "    return opt_update(step_index, computed_gradients, optimizer_state), computed_loss, computed_gradients\n",
    "\n",
    "# Define the loss function and compute its gradients:\n",
    "loss_value = jit(loss)\n",
    "\n",
    "# Optimizer settings\n",
    "STEP_SIZE = 0.01\n",
    "num_iterations = 50000\n",
    "n_best = 50\n",
    "best_loss = 1e10\n",
    "best_params = None\n",
    "best_step = 0\n",
    "\n",
    "# Init parameters:\n",
    "init_params = jnp.array([np.random.uniform(-jnp.pi, jnp.pi, (resolution, resolution))], dtype=jnp.float64)\n",
    "   \n",
    "# Define the optimizer and initialize it\n",
    "opt_init, opt_update, get_params = optimizers.adam(STEP_SIZE)\n",
    "opt_state = opt_init(init_params)\n",
    "\n",
    "print('Starting Optimization', flush=True)\n",
    "tic = time.perf_counter()\n",
    "        \n",
    "# Optimize in a loop\n",
    "for step in range(num_iterations):\n",
    "        \n",
    "    opt_state, loss_value, gradients = update(step, opt_state)\n",
    "\n",
    "    if loss_value < best_loss:\n",
    "        best_loss = loss_value\n",
    "        best_params = get_params(opt_state)\n",
    "        best_step = step\n",
    "\n",
    "    # Stopping criteria:\n",
    "    if step % 100 == 0:\n",
    "        if step - best_step > n_best:\n",
    "            print(f'Stopping criterion: no improvement in loss value for {n_best} steps')\n",
    "            break\n",
    "\n",
    "print(f'Best loss: {best_loss} at step {best_step}; actual step {step}')\n",
    "print(\"Time taken to optimize one sample - in seconds\", time.perf_counter() - tic)\n",
    "\n",
    "plt.imshow(best_params[0])"
   ]
  },
  {
   "cell_type": "markdown",
   "id": "bf99a66b-434f-40e4-b362-448301924e9e",
   "metadata": {
    "tags": []
   },
   "source": [
    "### SciPy's optimizer (BFGS):"
   ]
  },
  {
   "cell_type": "code",
   "execution_count": 16,
   "id": "36880369-b8b2-445e-aeb5-b4887d9bf034",
   "metadata": {},
   "outputs": [],
   "source": [
    "# Setup (NumPy-based) and loss function: \n",
    "def phase(phase):\n",
    "    return np.exp(1j * phase)\n",
    "\n",
    "def npSLM(input_field, phase_array, shape):\n",
    "    slm = np.fromfunction(lambda i, j: phase(phase_array[i, j]),\n",
    "                           (resolution, resolution), dtype=int)\n",
    "    light_out = input_field * slm  # Multiplies element-wise\n",
    "    return light_out, slm\n",
    "\n",
    "def setup(gb, parameters):\n",
    "    gb_modulated, _ = npSLM(gb.field, parameters, gb.x.shape[0])\n",
    "    return gb_modulated\n",
    "\n",
    "def mse_phase(input_light, target_light):\n",
    "    return np.sum((np.angle(input_light) - np.angle(target_light.field)) ** 2) / resolution**2\n",
    "\n",
    "def loss(parameters_flat):\n",
    "    parameters = parameters_flat.reshape(resolution, resolution)\n",
    "    out = setup(gb, parameters)\n",
    "    loss_val = mse_phase(out, gb_gt)\n",
    "    return loss_val"
   ]
  },
  {
   "cell_type": "code",
   "execution_count": 17,
   "id": "2ddae8c7-368e-4770-97d4-317601f838d0",
   "metadata": {
    "tags": []
   },
   "outputs": [
    {
     "name": "stdout",
     "output_type": "stream",
     "text": [
      "Optimization terminated successfully.\n",
      "         Current function value: 0.000000\n",
      "         Iterations: 2\n",
      "         Function evaluations: 505\n",
      "         Gradient evaluations: 5\n",
      "Time taken to optimize one sample - in seconds 0.22240092977881432\n"
     ]
    },
    {
     "data": {
      "text/plain": [
       "<matplotlib.image.AxesImage at 0x148ba8cdb1f0>"
      ]
     },
     "execution_count": 17,
     "metadata": {},
     "output_type": "execute_result"
    },
    {
     "data": {
      "image/png": "[encoded data removed]",
      "text/plain": [
       "<Figure size 640x480 with 1 Axes>"
      ]
     },
     "metadata": {},
     "output_type": "display_data"
    }
   ],
   "source": [
    "from scipy.optimize import minimize \n",
    "\n",
    "# Init parameters\n",
    "parameters = np.random.uniform(-np.pi, np.pi, (resolution, resolution)).flatten()\n",
    "\n",
    "# Optimizer\n",
    "tic = time.perf_counter()\n",
    "res = minimize(loss, parameters, method='BFGS', options={'disp': True})\n",
    "print(\"Time taken to optimize one sample - in seconds\", time.perf_counter() - tic)\n",
    "\n",
    "plt.imshow((res.x).reshape(resolution, resolution))"
   ]
  }
 ],
 "metadata": {
  "kernelspec": {
   "display_name": "pretzel",
   "language": "python",
   "name": "pretzel"
  },
  "language_info": {
   "codemirror_mode": {
    "name": "ipython",
    "version": 3
   },
   "file_extension": ".py",
   "mimetype": "text/x-python",
   "name": "python",
   "nbconvert_exporter": "python",
   "pygments_lexer": "ipython3",
   "version": "3.8.16"
  }
 },
 "nbformat": 4,
 "nbformat_minor": 5
}
